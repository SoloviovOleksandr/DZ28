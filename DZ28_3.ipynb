{
 "cells": [
  {
   "cell_type": "code",
   "execution_count": null,
   "id": "a6c641c6",
   "metadata": {},
   "outputs": [],
   "source": [
    "delta = 0.6\n",
    "gamma = 0.95\n",
    "sigma = 0.3\n",
    "\n",
    "n = t²*sigma²/delta²\n",
    "Ф(t) = a(gamma/2) = 2.58\n",
    "n = 2.85² * 3²/ 0.6² = 166.41\n",
    "size cant be less than 166\n"
   ]
  }
 ],
 "metadata": {
  "kernelspec": {
   "display_name": "Python 3 (ipykernel)",
   "language": "python",
   "name": "python3"
  },
  "language_info": {
   "codemirror_mode": {
    "name": "ipython",
    "version": 3
   },
   "file_extension": ".py",
   "mimetype": "text/x-python",
   "name": "python",
   "nbconvert_exporter": "python",
   "pygments_lexer": "ipython3",
   "version": "3.9.13"
  }
 },
 "nbformat": 4,
 "nbformat_minor": 5
}
