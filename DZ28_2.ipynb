{
 "cells": [
  {
   "cell_type": "code",
   "execution_count": null,
   "id": "62bc5088",
   "metadata": {},
   "outputs": [],
   "source": [
    "n = 100 , m = 40, gamma = 0.95\n",
    "Ф(t) = gamma/2 = 0.475\n",
    "t = 1.96\n",
    "p1<p<p2\n",
    "p1 = 1/(t²+n)* m *(t²/2 - t*sqrt(m*(n-m)/m+t²/4)) = 1/(1.96+100) * (40 +1.96²/2 -1.96*sqrt(40(100-40)/100+1.96²/4)) = 0.309\n",
    "p2 = 1/1.96²+100 * (40 + 1.96**2/2 + 1.96 * (40*60/100 + 1.96**2/4)**0.5) = 0.497\n",
    "result 0.309 < p < 0.497"
   ]
  }
 ],
 "metadata": {
  "kernelspec": {
   "display_name": "Python 3 (ipykernel)",
   "language": "python",
   "name": "python3"
  },
  "language_info": {
   "codemirror_mode": {
    "name": "ipython",
    "version": 3
   },
   "file_extension": ".py",
   "mimetype": "text/x-python",
   "name": "python",
   "nbconvert_exporter": "python",
   "pygments_lexer": "ipython3",
   "version": "3.9.13"
  }
 },
 "nbformat": 4,
 "nbformat_minor": 5
}
