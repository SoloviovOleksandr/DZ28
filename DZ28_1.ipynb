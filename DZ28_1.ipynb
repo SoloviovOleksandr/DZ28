{
 "cells": [
  {
   "cell_type": "code",
   "execution_count": null,
   "id": "376f65cc",
   "metadata": {},
   "outputs": [],
   "source": [
    "n = 20, gamma = 0.95\n",
    "t = t(gamma,n) = 2.093\n",
    "Xb = (1 *2 +2*3 + 4*10 + 6*3 + 7*2)/20 = 4\n",
    "S² = ((1-4)² *2 + (2-4)²*3 + (4-4)²*10 +(6-4)²*3+ (7-4)²*2)/19 = 3.2\n",
    "sqrt(S²) = 1.79\n",
    "б = (S/sqrt(n)) *t = 0.84\n",
    "Xb - (S/sqrt(n))* t < a < Xb + (S/sqrt(n))*t = 3.16 < a < 4.84\n",
    "3.16 < a < 4.84 - result"
   ]
  }
 ],
 "metadata": {
  "kernelspec": {
   "display_name": "Python 3 (ipykernel)",
   "language": "python",
   "name": "python3"
  },
  "language_info": {
   "codemirror_mode": {
    "name": "ipython",
    "version": 3
   },
   "file_extension": ".py",
   "mimetype": "text/x-python",
   "name": "python",
   "nbconvert_exporter": "python",
   "pygments_lexer": "ipython3",
   "version": "3.9.13"
  }
 },
 "nbformat": 4,
 "nbformat_minor": 5
}
